{
 "cells": [
  {
   "cell_type": "markdown",
   "metadata": {},
   "source": [
    "# Project 2:Wrangling and Exploratory Data Analysis\n",
    "Yosefe Eshete 04/03/20\n"
   ]
  },
  {
   "cell_type": "code",
   "execution_count": 2,
   "metadata": {},
   "outputs": [],
   "source": [
    "import pandas as pd \n",
    "%matplotlib inline\n",
    "import matplotlib.pyplot as plt\n",
    "\n",
    "import sqlite3\n",
    "\n",
    "con = sqlite3.connect('lahman2016.sqlite')"
   ]
  },
  {
   "cell_type": "markdown",
   "metadata": {},
   "source": [
    "## Wrangling "
   ]
  },
  {
   "cell_type": "markdown",
   "metadata": {},
   "source": [
    "Problem 1: Payroll and Winning Percentage  "
   ]
  },
  {
   "cell_type": "code",
   "execution_count": 3,
   "metadata": {},
   "outputs": [
    {
     "data": {
      "text/html": [
       "<div>\n",
       "<style>\n",
       "    .dataframe thead tr:only-child th {\n",
       "        text-align: right;\n",
       "    }\n",
       "\n",
       "    .dataframe thead th {\n",
       "        text-align: left;\n",
       "    }\n",
       "\n",
       "    .dataframe tbody tr th {\n",
       "        vertical-align: top;\n",
       "    }\n",
       "</style>\n",
       "<table border=\"1\" class=\"dataframe\">\n",
       "  <thead>\n",
       "    <tr style=\"text-align: right;\">\n",
       "      <th></th>\n",
       "      <th>yearID</th>\n",
       "      <th>teamID</th>\n",
       "      <th>winPercentage</th>\n",
       "      <th>payroll</th>\n",
       "    </tr>\n",
       "  </thead>\n",
       "  <tbody>\n",
       "    <tr>\n",
       "      <th>0</th>\n",
       "      <td>2001</td>\n",
       "      <td>SEA</td>\n",
       "      <td>71.604938</td>\n",
       "      <td>74720834.0</td>\n",
       "    </tr>\n",
       "    <tr>\n",
       "      <th>1</th>\n",
       "      <td>1998</td>\n",
       "      <td>NYA</td>\n",
       "      <td>70.370370</td>\n",
       "      <td>66806867.0</td>\n",
       "    </tr>\n",
       "    <tr>\n",
       "      <th>2</th>\n",
       "      <td>1995</td>\n",
       "      <td>CLE</td>\n",
       "      <td>69.444444</td>\n",
       "      <td>37937835.0</td>\n",
       "    </tr>\n",
       "    <tr>\n",
       "      <th>3</th>\n",
       "      <td>1998</td>\n",
       "      <td>ATL</td>\n",
       "      <td>65.432099</td>\n",
       "      <td>61186000.0</td>\n",
       "    </tr>\n",
       "    <tr>\n",
       "      <th>4</th>\n",
       "      <td>1994</td>\n",
       "      <td>MON</td>\n",
       "      <td>64.912281</td>\n",
       "      <td>19098000.0</td>\n",
       "    </tr>\n",
       "    <tr>\n",
       "      <th>5</th>\n",
       "      <td>2004</td>\n",
       "      <td>SLN</td>\n",
       "      <td>64.814815</td>\n",
       "      <td>83228333.0</td>\n",
       "    </tr>\n",
       "    <tr>\n",
       "      <th>6</th>\n",
       "      <td>1993</td>\n",
       "      <td>ATL</td>\n",
       "      <td>64.197531</td>\n",
       "      <td>41641417.0</td>\n",
       "    </tr>\n",
       "    <tr>\n",
       "      <th>7</th>\n",
       "      <td>2002</td>\n",
       "      <td>NYA</td>\n",
       "      <td>63.975155</td>\n",
       "      <td>125928583.0</td>\n",
       "    </tr>\n",
       "    <tr>\n",
       "      <th>8</th>\n",
       "      <td>2009</td>\n",
       "      <td>NYA</td>\n",
       "      <td>63.580247</td>\n",
       "      <td>201449189.0</td>\n",
       "    </tr>\n",
       "    <tr>\n",
       "      <th>9</th>\n",
       "      <td>1999</td>\n",
       "      <td>ATL</td>\n",
       "      <td>63.580247</td>\n",
       "      <td>73140000.0</td>\n",
       "    </tr>\n",
       "  </tbody>\n",
       "</table>\n",
       "</div>"
      ],
      "text/plain": [
       "   yearID teamID  winPercentage      payroll\n",
       "0    2001    SEA      71.604938   74720834.0\n",
       "1    1998    NYA      70.370370   66806867.0\n",
       "2    1995    CLE      69.444444   37937835.0\n",
       "3    1998    ATL      65.432099   61186000.0\n",
       "4    1994    MON      64.912281   19098000.0\n",
       "5    2004    SLN      64.814815   83228333.0\n",
       "6    1993    ATL      64.197531   41641417.0\n",
       "7    2002    NYA      63.975155  125928583.0\n",
       "8    2009    NYA      63.580247  201449189.0\n",
       "9    1999    ATL      63.580247   73140000.0"
      ]
     },
     "execution_count": 3,
     "metadata": {},
     "output_type": "execute_result"
    }
   ],
   "source": [
    "query = \"\"\"\n",
    "SELECT h.yearId, h.teamId, 100.0 * (1.0 * h.W/h.G) AS winPercentage, SUM(s.salary) as payroll\n",
    "FROM TEAMS AS h JOIN SALARIES AS s on h.teamId == s.teamId and h.yearId == s.yearId\n",
    "WHERE h.yearId >= 1990 and h.yearId <= 2014\n",
    "GROUP BY h.teamId, h.yearId\n",
    "ORDER BY winPercentage DESC, payroll DESC\n",
    "\"\"\"\n",
    "\n",
    "payWin = pd.read_sql_query(query, con)\n",
    "payWin.head(10)"
   ]
  },
  {
   "cell_type": "markdown",
   "metadata": {},
   "source": [
    "## Exploratory Data Analysis"
   ]
  },
  {
   "cell_type": "markdown",
   "metadata": {
    "collapsed": true
   },
   "source": [
    "### Payroll Distribution"
   ]
  },
  {
   "cell_type": "markdown",
   "metadata": {},
   "source": [
    "Problem 2: Plot the distribution of payrolls across teams conditioned on year (from 1990-2014)\n"
   ]
  },
  {
   "cell_type": "code",
   "execution_count": 4,
   "metadata": {},
   "outputs": [
    {
     "data": {
      "text/plain": [
       "<matplotlib.text.Text at 0x1af33c951d0>"
      ]
     },
     "execution_count": 4,
     "metadata": {},
     "output_type": "execute_result"
    },
    {
     "data": {
      "image/png": "[encoded data removed]",
      "text/plain": [
       "<matplotlib.figure.Figure at 0x1af33aab0f0>"
      ]
     },
     "metadata": {},
     "output_type": "display_data"
    }
   ],
   "source": [
    "trnd = payWin.boxplot(by = 'yearID', column = ['payroll'], grid = False)\n",
    "plt.xticks(rotation=90)\n",
    "plt.ylabel('payroll',fontsize=10, fontweight='bold')\n",
    "plt.xlabel('year', fontsize=10, fontweight='bold')\n",
    "plt.title('Payroll over time', fontsize=10, fontweight='bold')\n",
    "plt.suptitle('')"
   ]
  },
  {
   "cell_type": "markdown",
   "metadata": {},
   "source": [
    "Question 1: As seen from the graph above there seems to be more money in baseball, but the median amount spent seems to stay relatively constant from 2003-2014. There seems to be an increase in outliers or teams that are willing to spend more then any other team. Most teams are spending money within a range that is constant over time from 2003-2014."
   ]
  },
  {
   "cell_type": "markdown",
   "metadata": {},
   "source": [
    "Problem 3: Let's see if the central tendency in terms of the mean represents this leveling(decrease in rate of spending) from 1990-2003 compared to 2003-2014.  \n"
   ]
  },
  {
   "cell_type": "code",
   "execution_count": 7,
   "metadata": {},
   "outputs": [
    {
     "data": {
      "text/plain": [
       "<matplotlib.axes._subplots.AxesSubplot at 0x1af341b0e80>"
      ]
     },
     "execution_count": 7,
     "metadata": {},
     "output_type": "execute_result"
    },
    {
     "data": {
      "image/png": "[encoded data removed]",
      "text/plain": [
       "<matplotlib.figure.Figure at 0x1af34336ba8>"
      ]
     },
     "metadata": {},
     "output_type": "display_data"
    }
   ],
   "source": [
    "avgPayWinYear = payWin.groupby(['yearID']).mean()\n",
    "avgPayWinYear.plot(y='payroll')\n"
   ]
  },
  {
   "cell_type": "code",
   "execution_count": 8,
   "metadata": {},
   "outputs": [],
   "source": [
    "#payWin['yearBins'] = pd.cut(x=payWin['yearID'], bins=5)\n",
    "#avgWinYear['winBins'] = pd.cut(x=avgWinYear['yearID'], bins=5\n",
    "\n"
   ]
  },
  {
   "cell_type": "markdown",
   "metadata": {
    "collapsed": true
   },
   "source": [
    "Question 2: "
   ]
  },
  {
   "cell_type": "markdown",
   "metadata": {},
   "source": [
    "Problem 5: "
   ]
  }
 ],
 "metadata": {
  "kernelspec": {
   "display_name": "Python 3",
   "language": "python",
   "name": "python3"
  },
  "language_info": {
   "codemirror_mode": {
    "name": "ipython",
    "version": 3
   },
   "file_extension": ".py",
   "mimetype": "text/x-python",
   "name": "python",
   "nbconvert_exporter": "python",
   "pygments_lexer": "ipython3",
   "version": "3.6.10"
  }
 },
 "nbformat": 4,
 "nbformat_minor": 2
}
